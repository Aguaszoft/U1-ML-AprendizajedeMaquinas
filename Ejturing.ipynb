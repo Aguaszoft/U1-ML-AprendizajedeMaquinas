{
  "nbformat": 4,
  "nbformat_minor": 0,
  "metadata": {
    "colab": {
      "provenance": []
    },
    "kernelspec": {
      "name": "python3",
      "display_name": "Python 3"
    },
    "language_info": {
      "name": "python"
    }
  },
  "cells": [
    {
      "cell_type": "code",
      "execution_count": null,
      "metadata": {
        "colab": {
          "base_uri": "https://localhost:8080/"
        },
        "id": "xfNhDhgRc2Pa",
        "outputId": "bcbca60b-4948-4ef8-9f35-cd2501cd51a9"
      },
      "outputs": [
        {
          "output_type": "stream",
          "name": "stdout",
          "text": [
            "¡Hola! Soy un bot de chat. ¡Hablemos!\n",
            "Tú: hola\n",
            "Bot: ¿Cómo estás?\n",
            "Tú: bien\n",
            "Bot: Hmm, no estoy seguro de entender eso.\n",
            "Tú: ok\n",
            "Bot: Eso suena intrigante, dime más.\n",
            "Tú: si\n",
            "Bot: Interesante, cuéntame más.\n",
            "Tú: si\n",
            "Bot: Eso suena intrigante, dime más.\n",
            "Tú: si\n",
            "Bot: Interesante, cuéntame más.\n",
            "Tú: no\n",
            "Bot: ¿Puedes decirlo de otra manera?\n"
          ]
        }
      ],
      "source": [
        "import random\n",
        "\n",
        "# Respuestas predefinidas para simular una conversación\n",
        "respuestas = {\n",
        "    \"hola\": [\"¡Hola!\", \"¿Cómo estás?\", \"¡Hola! ¿Cómo te va?\"],\n",
        "    \"cómo te llamas\": [\"Soy una IA creada para charlar contigo.\", \"Me llamo IA-Chat.\", \"Mi nombre no es importante, ¡lo importante es la conversación!\"],\n",
        "    \"qué haces\": [\"Estoy conversando contigo.\", \"Hablo contigo, ¿qué más haría?\", \"Intento parecer humano.\"],\n",
        "    \"adiós\": [\"¡Adiós!\", \"Nos vemos luego.\", \"Fue un placer hablar contigo.\"]\n",
        "}\n",
        "\n",
        "# Respuesta por defecto si no se reconoce la entrada\n",
        "respuestas_por_defecto = [\n",
        "    \"Interesante, cuéntame más.\",\n",
        "    \"Hmm, no estoy seguro de entender eso.\",\n",
        "    \"¿Puedes decirlo de otra manera?\",\n",
        "    \"Eso suena intrigante, dime más.\"\n",
        "]\n",
        "\n",
        "def obtener_respuesta(input_usuario):\n",
        "    # Convertir el input a minúsculas\n",
        "    input_usuario = input_usuario.lower()\n",
        "\n",
        "    # Intentar encontrar una respuesta predefinida\n",
        "    for key in respuestas.keys():\n",
        "        if key in input_usuario:\n",
        "            return random.choice(respuestas[key])\n",
        "\n",
        "    # Si no se reconoce el input, usar una respuesta por defecto\n",
        "    return random.choice(respuestas_por_defecto)\n",
        "\n",
        "# Bucle de la conversación\n",
        "def iniciar_conversacion():\n",
        "    print(\"¡Hola! Soy un bot de chat. ¡Hablemos!\")\n",
        "\n",
        "    while True:\n",
        "        entrada_usuario = input(\"Tú: \")\n",
        "\n",
        "        if \"adiós\" in entrada_usuario.lower():\n",
        "            print(\"Bot:\", random.choice(respuestas[\"adiós\"]))\n",
        "            break\n",
        "\n",
        "        respuesta_bot = obtener_respuesta(entrada_usuario)\n",
        "        print(\"Bot:\", respuesta_bot)\n",
        "\n",
        "# Iniciar la conversación\n",
        "if __name__ == \"__main__\":\n",
        "    iniciar_conversacion()\n"
      ]
    }
  ]
}